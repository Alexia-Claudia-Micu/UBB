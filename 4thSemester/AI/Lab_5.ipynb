{
 "cells": [
  {
   "cell_type": "markdown",
   "id": "b8210b19",
   "metadata": {},
   "source": [
    "## A.I. Assignment 5\n",
    "\n",
    "## Learning Goals\n",
    "\n",
    "By the end of this lab, you should be able to:\n",
    "* Get more familiar with tensors in pytorch \n",
    "* Create a simple multilayer perceptron model with pytorch\n",
    "* Visualise the parameters\n",
    "\n",
    "\n",
    "### Task\n",
    "\n",
    "Build a fully connected feed forward network that adds two bits. Determine the a propper achitecture for this network (what database you use for this problem? how many layers? how many neurons on each layer? what is the activation function? what is the loss function? etc)\n",
    "\n",
    "Create at least 3 such networks and compare their performance (how accurate they are?, how farst they are trained to get at 1 accuracy?)\n",
    "\n",
    "Display for the best one the weights for each layer.\n"
   ]
  },
  {
   "cell_type": "code",
   "execution_count": 1,
   "id": "e3614e5f",
   "metadata": {},
   "outputs": [],
   "source": [
    "import torch\n",
    "import torch.nn as nn\n",
    "from collections import OrderedDict\n"
   ]
  },
  {
   "cell_type": "code",
   "execution_count": 2,
   "id": "5ee7e7d7",
   "metadata": {
    "scrolled": true
   },
   "outputs": [
    {
     "name": "stdout",
     "output_type": "stream",
     "text": [
      "Training Simple Model:\n",
      "Epoch 1/1000, Loss: 0.7596\n",
      "Epoch 101/1000, Loss: 0.6093\n",
      "Epoch 201/1000, Loss: 0.5129\n",
      "Epoch 301/1000, Loss: 0.4896\n",
      "Epoch 401/1000, Loss: 0.4835\n",
      "Epoch 501/1000, Loss: 0.4812\n",
      "Epoch 601/1000, Loss: 0.4797\n",
      "Epoch 701/1000, Loss: 0.4791\n",
      "Epoch 801/1000, Loss: 0.4787\n",
      "Epoch 901/1000, Loss: 0.4787\n",
      "Training finished.\n",
      "\n",
      "Training Moderate Model:\n",
      "Epoch 1/1000, Loss: 0.6929\n",
      "Epoch 101/1000, Loss: 0.0971\n",
      "Epoch 201/1000, Loss: 0.0073\n",
      "Epoch 301/1000, Loss: 0.0029\n",
      "Epoch 401/1000, Loss: 0.0016\n",
      "Epoch 501/1000, Loss: 0.0010\n",
      "Epoch 601/1000, Loss: 0.0007\n",
      "Epoch 701/1000, Loss: 0.0005\n",
      "Epoch 801/1000, Loss: 0.0004\n",
      "Epoch 901/1000, Loss: 0.0003\n",
      "Training finished.\n",
      "\n",
      "Training Complex Model:\n",
      "Epoch 1/1000, Loss: 0.7029\n",
      "Epoch 101/1000, Loss: 0.0028\n",
      "Epoch 201/1000, Loss: 0.0005\n",
      "Epoch 301/1000, Loss: 0.0002\n",
      "Epoch 401/1000, Loss: 0.0001\n",
      "Epoch 501/1000, Loss: 0.0001\n",
      "Epoch 601/1000, Loss: 0.0001\n",
      "Epoch 701/1000, Loss: 0.0000\n",
      "Epoch 801/1000, Loss: 0.0000\n",
      "Epoch 901/1000, Loss: 0.0000\n",
      "Training finished.\n",
      "\n",
      "Accuracy:\n",
      "Simple Model: 75.00%\n",
      "Moderate Model: 100.00%\n",
      "Complex Model: 100.00%\n",
      "\n",
      "Weights for Complex Model:\n",
      "fc1.weight tensor([[-0.0370, -1.2169],\n",
      "        [ 0.8206,  0.6304],\n",
      "        [ 0.9345,  1.4540],\n",
      "        [-0.0866,  1.0784],\n",
      "        [ 0.9302,  0.0265],\n",
      "        [-1.0446,  0.1171],\n",
      "        [-0.5818, -0.4046],\n",
      "        [ 1.4595, -0.0497]])\n",
      "fc2.weight tensor([[-0.4849,  0.7527,  0.8494,  0.7499,  0.5320, -0.3429, -0.1850,  0.9514],\n",
      "        [-0.6211, -0.8072,  0.3523,  0.4734, -0.0405,  0.5401, -0.0565, -0.5973],\n",
      "        [-0.5291, -0.7708,  0.4198,  0.1950, -0.2842,  0.4291,  0.1606, -0.3639],\n",
      "        [ 0.6766, -0.5131, -0.1337, -0.7415,  0.7683, -1.1599, -0.0886,  0.3846],\n",
      "        [ 0.9033, -0.8524, -0.1527, -0.2336, -0.0192,  0.8494, -0.1018,  0.3876],\n",
      "        [-0.2274, -0.2686, -0.0442, -0.2564,  0.0592,  0.2572, -0.3056, -0.2455],\n",
      "        [-0.0760, -0.1742, -0.2559, -0.1662, -0.2880,  0.1108,  0.0859, -0.2591],\n",
      "        [ 1.1363, -0.7971, -0.7510, -0.3453, -0.4127,  1.2297, -0.2961, -0.2223]])\n",
      "fc3.weight tensor([[-0.1745,  0.2364, -0.2254,  0.0808, -0.3565,  0.0654,  0.1976, -0.1498],\n",
      "        [-0.2345, -0.3325,  0.3504,  0.2423, -0.1606,  0.1835, -0.1061, -0.2535],\n",
      "        [ 0.9843, -0.9633, -0.2089, -0.8733, -0.8530, -0.3532,  0.0371, -0.4567],\n",
      "        [ 0.8815, -0.7412, -0.3100, -0.7972, -0.6232,  0.1857, -0.2774, -0.1288],\n",
      "        [ 0.0140,  0.9970,  1.2746,  1.3054,  0.6525,  0.0574,  0.0325, -0.5852],\n",
      "        [-0.1049,  0.0189,  0.2677, -0.3091, -0.3300,  0.3252, -0.3300, -0.3237],\n",
      "        [ 0.3686, -1.0182, -0.3903, -1.0465,  0.7178,  0.2103, -0.0046,  1.6401],\n",
      "        [ 0.7669,  1.0602,  1.0887,  0.9822,  0.5427, -0.0082,  0.2439, -0.9595]])\n",
      "fc4.weight tensor([[ 0.1971, -0.0168, -1.2254, -0.8655,  1.3619, -0.1860, -1.2931,  1.0043]])\n"
     ]
    }
   ],
   "source": [
    "import torch\n",
    "import torch.nn as nn\n",
    "import torch.optim as optim\n",
    "import numpy as np\n",
    "\n",
    "# Data preparation\n",
    "X_train = torch.tensor([[0, 0], [0, 1], [1, 0], [1, 0]], dtype=torch.float32)\n",
    "y_train = torch.tensor([[0], [1], [1], [0]], dtype=torch.float32)\n",
    "\n",
    "class SimpleAdditionModel(nn.Module):\n",
    "    def __init__(self):\n",
    "        super(SimpleAdditionModel, self).__init__()\n",
    "        self.fc1 = nn.Linear(2, 2)\n",
    "        self.fc2 = nn.Linear(2, 1)\n",
    "        \n",
    "    def forward(self, x):\n",
    "        x = torch.relu(self.fc1(x))\n",
    "        x = torch.sigmoid(self.fc2(x))\n",
    "        return x\n",
    "\n",
    "class ModerateAdditionModel(nn.Module):\n",
    "    def __init__(self):\n",
    "        super(ModerateAdditionModel, self).__init__()\n",
    "        self.fc1 = nn.Linear(2, 4)\n",
    "        self.fc2 = nn.Linear(4, 4)\n",
    "        self.fc3 = nn.Linear(4, 1)\n",
    "        \n",
    "    def forward(self, x):\n",
    "        x = torch.relu(self.fc1(x))\n",
    "        x = torch.relu(self.fc2(x))\n",
    "        x = torch.sigmoid(self.fc3(x))\n",
    "        return x\n",
    "\n",
    "class ComplexAdditionModel(nn.Module):\n",
    "    def __init__(self):\n",
    "        super(ComplexAdditionModel, self).__init__()\n",
    "        self.fc1 = nn.Linear(2, 8)\n",
    "        self.fc2 = nn.Linear(8, 8)\n",
    "        self.fc3 = nn.Linear(8, 8)\n",
    "        self.fc4 = nn.Linear(8, 1)\n",
    "        \n",
    "    def forward(self, x):\n",
    "        x = torch.relu(self.fc1(x))\n",
    "        x = torch.relu(self.fc2(x))\n",
    "        x = torch.relu(self.fc3(x))\n",
    "        x = torch.sigmoid(self.fc4(x))\n",
    "        return x\n",
    "\n",
    "# Function to train the model\n",
    "def train_model(model, X_train, y_train, num_epochs=1000, lr=0.01):\n",
    "    criterion = nn.BCELoss()\n",
    "    optimizer = optim.Adam(model.parameters(), lr=lr)\n",
    "    for epoch in range(num_epochs):\n",
    "        model.train()\n",
    "        optimizer.zero_grad()\n",
    "        outputs = model(X_train)\n",
    "        loss = criterion(outputs, y_train)\n",
    "        loss.backward()\n",
    "        optimizer.step()\n",
    "        if epoch % 100 == 0:\n",
    "            print(f\"Epoch {epoch+1}/{num_epochs}, Loss: {loss.item():.4f}\")\n",
    "    print('Training finished.')\n",
    "\n",
    "# Train the models\n",
    "simple_model = SimpleAdditionModel()\n",
    "moderate_model = ModerateAdditionModel()\n",
    "complex_model = ComplexAdditionModel()\n",
    "\n",
    "print(\"Training Simple Model:\")\n",
    "train_model(simple_model, X_train, y_train)\n",
    "print(\"\\nTraining Moderate Model:\")\n",
    "train_model(moderate_model, X_train, y_train)\n",
    "print(\"\\nTraining Complex Model:\")\n",
    "train_model(complex_model, X_train, y_train)\n",
    "\n",
    "# Function to evaluate accuracy\n",
    "def evaluate_accuracy(model, X_train, y_train):\n",
    "    with torch.no_grad():\n",
    "        model.eval()\n",
    "        outputs = model(X_train)\n",
    "        predicted = torch.round(outputs)\n",
    "        correct = (predicted == y_train).sum().item()\n",
    "        total = y_train.size(0)\n",
    "        accuracy = correct / total\n",
    "    return accuracy\n",
    "\n",
    "# Evaluate the models\n",
    "simple_accuracy = evaluate_accuracy(simple_model, X_train, y_train)\n",
    "moderate_accuracy = evaluate_accuracy(moderate_model, X_train, y_train)\n",
    "complex_accuracy = evaluate_accuracy(complex_model, X_train, y_train)\n",
    "\n",
    "print(\"\\nAccuracy:\")\n",
    "print(f\"Simple Model: {simple_accuracy:.2%}\")\n",
    "print(f\"Moderate Model: {moderate_accuracy:.2%}\")\n",
    "print(f\"Complex Model: {complex_accuracy:.2%}\")\n",
    "\n",
    "# Display weights for the best model (Complex Model)\n",
    "def display_weights(model):\n",
    "    for name, param in model.named_parameters():\n",
    "        if 'weight' in name:\n",
    "            print(name, param.data)\n",
    "\n",
    "print(\"\\nWeights for Complex Model:\")\n",
    "display_weights(complex_model)\n"
   ]
  },
  {
   "cell_type": "code",
   "execution_count": 3,
   "id": "665ae958",
   "metadata": {},
   "outputs": [
    {
     "name": "stdout",
     "output_type": "stream",
     "text": [
      "ComplexAdditionModel(\n",
      "  (fc1): Linear(in_features=2, out_features=8, bias=True)\n",
      "  (fc2): Linear(in_features=8, out_features=8, bias=True)\n",
      "  (fc3): Linear(in_features=8, out_features=8, bias=True)\n",
      "  (fc4): Linear(in_features=8, out_features=1, bias=True)\n",
      ")\n"
     ]
    }
   ],
   "source": [
    "print(complex_model)"
   ]
  },
  {
   "cell_type": "code",
   "execution_count": 5,
   "id": "e26f0d3e",
   "metadata": {},
   "outputs": [
    {
     "name": "stdout",
     "output_type": "stream",
     "text": [
      "Predicted outputs:\n",
      "tensor([[0.5339],\n",
      "        [0.5342],\n",
      "        [0.5335],\n",
      "        [0.5328]])\n"
     ]
    }
   ],
   "source": [
    "import torch\n",
    "\n",
    "# Define the input data\n",
    "data_in = torch.tensor([[0, 0], [0, 1], [1, 0], [1, 1]], dtype=torch.float32)\n",
    "\n",
    "# Load the trained model (Complex Model)\n",
    "complex_model = ComplexAdditionModel()\n",
    "\n",
    "# Evaluate the model to predict the output\n",
    "with torch.no_grad():\n",
    "    complex_model.eval()\n",
    "    output = complex_model(data_in)\n",
    "\n",
    "print(\"Predicted outputs:\")\n",
    "print(output)\n",
    "\n"
   ]
  },
  {
   "cell_type": "code",
   "execution_count": 6,
   "id": "4fb16bbc",
   "metadata": {},
   "outputs": [
    {
     "name": "stdout",
     "output_type": "stream",
     "text": [
      "Target outputs:\n",
      "tensor([[0.],\n",
      "        [1.],\n",
      "        [1.],\n",
      "        [0.]])\n"
     ]
    }
   ],
   "source": [
    "# Define the target data\n",
    "data_target = torch.tensor([[0], [1], [1], [0]], dtype=torch.float32)\n",
    "\n",
    "# Print the target data\n",
    "print(\"Target outputs:\")\n",
    "print(data_target)\n"
   ]
  },
  {
   "cell_type": "code",
   "execution_count": 7,
   "id": "69d920ed",
   "metadata": {},
   "outputs": [],
   "source": [
    "# Define the criterion\n",
    "criterion = nn.BCELoss()\n",
    "\n",
    "# Define the optimizer\n",
    "optimizer = optim.Adam(complex_model.parameters(), lr=0.01)\n"
   ]
  },
  {
   "cell_type": "code",
   "execution_count": 8,
   "id": "cde91f6f",
   "metadata": {},
   "outputs": [
    {
     "name": "stdout",
     "output_type": "stream",
     "text": [
      "Epoch 1/1000, Loss: 0.6949\n",
      "Accuracy 1.0 reached at epoch 60/1000\n",
      "Training finished.\n"
     ]
    }
   ],
   "source": [
    "# Train the model\n",
    "def train_model(model, X_train, y_train, criterion, optimizer, num_epochs=1000):\n",
    "    for epoch in range(num_epochs):\n",
    "        model.train()\n",
    "        optimizer.zero_grad()\n",
    "        outputs = model(X_train)\n",
    "        loss = criterion(outputs, y_train)\n",
    "        loss.backward()\n",
    "        optimizer.step()\n",
    "        if epoch % 100 == 0:\n",
    "            print(f\"Epoch {epoch+1}/{num_epochs}, Loss: {loss.item():.4f}\")\n",
    "        # Check for early stopping if accuracy is reached\n",
    "        if evaluate_accuracy(model, X_train, y_train) == 1.0:\n",
    "            print(f\"Accuracy 1.0 reached at epoch {epoch+1}/{num_epochs}\")\n",
    "            break\n",
    "    print('Training finished.')\n",
    "\n",
    "# Train the model\n",
    "train_model(complex_model, data_in, data_target, criterion, optimizer)\n"
   ]
  },
  {
   "cell_type": "code",
   "execution_count": 9,
   "id": "dff3ec1a",
   "metadata": {},
   "outputs": [
    {
     "data": {
      "image/png": "[encoded data removed]",
      "text/plain": [
       "<Figure size 800x600 with 1 Axes>"
      ]
     },
     "metadata": {},
     "output_type": "display_data"
    }
   ],
   "source": [
    "import matplotlib.pyplot as plt\n",
    "\n",
    "# Predict the outputs\n",
    "with torch.no_grad():\n",
    "    complex_model.eval()\n",
    "    predicted_outputs = complex_model(data_in)\n",
    "\n",
    "# Convert tensors to numpy arrays for plotting\n",
    "predicted_outputs_np = predicted_outputs.numpy()\n",
    "target_outputs_np = data_target.numpy()\n",
    "\n",
    "# Plot the results\n",
    "plt.figure(figsize=(8, 6))\n",
    "plt.plot(predicted_outputs_np, label='Predicted Outputs', marker='o')\n",
    "plt.plot(target_outputs_np, label='Target Outputs', marker='x')\n",
    "plt.xlabel('Sample Index')\n",
    "plt.ylabel('Output')\n",
    "plt.title('Predicted vs Target Outputs')\n",
    "plt.legend()\n",
    "plt.grid(True)\n",
    "plt.show()\n"
   ]
  },
  {
   "cell_type": "code",
   "execution_count": 10,
   "id": "c1a7518b",
   "metadata": {},
   "outputs": [
    {
     "name": "stdout",
     "output_type": "stream",
     "text": [
      "\n",
      "Weights for Complex Model:\n",
      "fc1.weight tensor([[ 0.2159, -0.6857],\n",
      "        [ 0.1997,  0.1497],\n",
      "        [-0.4683,  0.6225],\n",
      "        [ 0.2296, -0.0349],\n",
      "        [ 0.9980, -0.9022],\n",
      "        [ 0.6020,  0.6092],\n",
      "        [ 0.5345, -0.6645],\n",
      "        [-0.5810,  0.2207]])\n",
      "fc2.weight tensor([[-0.3074, -0.3035, -0.2455,  0.2925, -0.1319, -0.0545,  0.0828,  0.2343],\n",
      "        [ 0.1889, -0.1753, -0.1566,  0.2918, -0.0506, -0.2036,  0.0833, -0.3286],\n",
      "        [ 0.2029,  0.0789, -0.0738, -0.1413, -0.1514,  0.0313, -0.3521, -0.0087],\n",
      "        [ 0.0957,  0.0617,  0.5184,  0.3323,  1.0185, -0.6648, -0.6244, -0.2764],\n",
      "        [ 0.3416, -0.2512, -0.1554, -0.1392,  0.0469, -0.0552, -0.2402,  0.2615],\n",
      "        [-0.1514,  0.2639, -0.3023,  0.0789,  0.0308,  0.3154, -0.2335, -0.2641],\n",
      "        [-0.2855,  0.3482, -0.4736, -0.2405,  0.9840, -0.6521,  0.6085, -0.3012],\n",
      "        [-0.1276, -0.0449,  0.0722,  0.2126, -0.6591,  0.8561,  0.6382,  0.0762]])\n",
      "fc3.weight tensor([[ 0.1056, -0.2664,  0.1050, -0.1413, -0.0475,  0.2205, -0.0226,  0.3124],\n",
      "        [ 0.0400, -0.3243,  0.1834, -0.3316,  0.2960, -0.3535, -0.3440, -0.0239],\n",
      "        [-0.0740, -0.1457, -0.2652,  0.9125, -0.0986, -0.2677,  0.9990, -0.6897],\n",
      "        [ 0.1824,  0.1206,  0.2790,  0.5447, -0.1075, -0.0454,  0.3732,  0.1063],\n",
      "        [ 0.0331, -0.2621, -0.2236,  1.0208,  0.3099,  0.1231, -0.6302, -0.3957],\n",
      "        [ 0.2844, -0.2530, -0.2208, -0.0538,  0.0312, -0.0673, -0.2931,  0.2375],\n",
      "        [ 0.1872,  0.1606, -0.0528, -0.2074,  0.2558,  0.1081,  0.2541, -0.3579],\n",
      "        [-0.0758,  0.0244, -0.0127, -0.1150,  0.1531,  0.2704, -0.1315,  0.1179]])\n",
      "fc4.weight tensor([[ 0.1317,  0.0215,  0.8117,  0.2903,  0.8993,  0.2165, -0.1023, -0.2857]])\n"
     ]
    }
   ],
   "source": [
    "# Function to display weights for each layer\n",
    "def display_weights(model):\n",
    "    for name, param in model.named_parameters():\n",
    "        if 'weight' in name:\n",
    "            print(name, param.data)\n",
    "\n",
    "# Display weights for the complex model\n",
    "print(\"\\nWeights for Complex Model:\")\n",
    "display_weights(complex_model)\n"
   ]
  },
  {
   "cell_type": "code",
   "execution_count": null,
   "id": "4cdf09ba",
   "metadata": {},
   "outputs": [],
   "source": []
  },
  {
   "cell_type": "code",
   "execution_count": null,
   "id": "d0bea66c",
   "metadata": {},
   "outputs": [],
   "source": []
  },
  {
   "cell_type": "code",
   "execution_count": null,
   "id": "e29c65a2",
   "metadata": {},
   "outputs": [],
   "source": []
  }
 ],
 "metadata": {
  "kernelspec": {
   "display_name": "Python 3 (ipykernel)",
   "language": "python",
   "name": "python3"
  },
  "language_info": {
   "codemirror_mode": {
    "name": "ipython",
    "version": 3
   },
   "file_extension": ".py",
   "mimetype": "text/x-python",
   "name": "python",
   "nbconvert_exporter": "python",
   "pygments_lexer": "ipython3",
   "version": "3.11.5"
  }
 },
 "nbformat": 4,
 "nbformat_minor": 5
}
